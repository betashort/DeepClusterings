{
 "cells": [
  {
   "cell_type": "code",
   "execution_count": 1,
   "metadata": {},
   "outputs": [],
   "source": [
    "import numpy as np\n",
    "import pandas as pd\n",
    "import os\n",
    "import time\n",
    "\n",
    "import torch\n",
    "import torch.nn as nn\n",
    "import torch.optim as optim\n",
    "\n",
    "from torchvision import transforms \n",
    "from torchvision.datasets import MNIST\n",
    "\n",
    "from sklearn.decomposition import PCA\n",
    "from sklearn.preprocessing import normalize\n",
    "from sklearn.cluster import KMeans\n",
    "\n",
    "from alexnet import alexnet\n",
    "\n",
    "from send_gmail import send_gmail\n",
    "import warnings\n",
    "warnings.filterwarnings('ignore')"
   ]
  },
  {
   "cell_type": "code",
   "execution_count": 73,
   "metadata": {},
   "outputs": [],
   "source": [
    "def main():\n",
    "    # fix random seeds\n",
    "    seed = 31\n",
    "    torch.manual_seed(seed)\n",
    "    torch.cuda.manual_seed_all(seed)\n",
    "    np.random.seed(seed)\n",
    "    \n",
    "    #device\n",
    "    device = 'cuda' if torch.cuda.is_available() else 'cpu'\n",
    "    \n",
    "    #\n",
    "    n_epoch = 300\n",
    "    lr = 1e-5\n",
    "    momentum =0.9\n",
    "    wd = 1e-5\n",
    "    \n",
    "    in_dim = 1\n",
    "    n_class = 10\n",
    "    \n",
    "    loss_list = []\n",
    "    \n",
    "    #==== CNN setting ====\n",
    "    model = alexnet(in_dim, n_class)\n",
    "    \n",
    "    fd = int(model.top_layer.weight.size()[1])\n",
    "    model.top_layer = None\n",
    "    model.to(device)\n",
    "    torch.backends.cudnn.benchmark = True\n",
    "    \n",
    "    \n",
    "    #==== optimizer ====\n",
    "    optimizer = torch.optim.SGD(\n",
    "        model.parameters(),\n",
    "        lr=lr,\n",
    "        momentum=momentum,\n",
    "        weight_decay=wd)\n",
    "    \n",
    "    #==== loss function ====\n",
    "    criterion = nn.CrossEntropyLoss()\n",
    "    \n",
    "    #==== preprocessing of image data =====\n",
    "    image_transform = transforms.Compose([transforms.Resize(224),\n",
    "                            transforms.ToTensor(),\n",
    "                            transforms.Normalize(mean=[0.485], std=[0.229])])\n",
    "    \n",
    "    #==== load the data ====\n",
    "    dataloader_feature = mnist_dataloader(batch_size=128, transform=image_transform, shuffle=False)\n",
    "    \n",
    "\n",
    "    # training convnet with DeepCluster\n",
    "    for counter, epoch in enumerate(range(n_epoch)):\n",
    "        \n",
    "        print(f'epoch: {counter} ')\n",
    "        \n",
    "        #==== CNN setting ====\n",
    "        # remove head\n",
    "        model.top_layer = None\n",
    "        model.classifier = nn.Sequential(*list(model.classifier.children())[:-1])\n",
    "\n",
    "        # get the features for the whole dataset\n",
    "        features = compute_features(dataloader_feature, model)\n",
    "        \n",
    "        #==== cluster the features =====\n",
    "        #preprocessing PCA -> L2 normalization\n",
    "        pca = PCA(n_components=256)\n",
    "        features = pca.fit_transform(features)\n",
    "        features = normalize(features, norm='l2')\n",
    "\n",
    "        \n",
    "        # clustering use Kmeans \n",
    "        clustering = KMeans(n_clusters=n_class)\n",
    "        psuedo_label = clustering.fit_predict(features)\n",
    "        \n",
    "        #return psuedo_label\n",
    "        #return psuedo_label\n",
    "        #==== dataloader ====\n",
    "        loader = mnist_dataloader(batch_size=128, transform=image_transform, psuedo=psuedo_label, shuffle=True)\n",
    "        \n",
    "        # set last fully connected layer\n",
    "        mlp = list(model.classifier.children())\n",
    "        mlp.append(nn.ReLU(inplace=True).cuda())\n",
    "        model.classifier = nn.Sequential(*mlp)\n",
    "        model.top_layer = nn.Linear(fd, n_class)\n",
    "        model.top_layer.weight.data.normal_(0, 0.01)\n",
    "        model.top_layer.bias.data.zero_()\n",
    "        model.top_layer.cuda()\n",
    "        \n",
    "        # train network with clusters as pseudo-labels\n",
    "        model, loss_avg = train_model(loader, model, criterion, optimizer)\n",
    "        \n",
    "        loss_list.append(loss_avg)\n",
    "    return model, loss_list"
   ]
  },
  {
   "cell_type": "code",
   "execution_count": 74,
   "metadata": {},
   "outputs": [],
   "source": [
    "def mnist_dataloader(batch_size, transform, psuedo=\"None\", shuffle=False):\n",
    "    batch_size = 128\n",
    "    mnist = MNIST(\"MNIST\", train=True, download=True, transform=transform)\n",
    "    sampler = None\n",
    "    if psuedo  != \"None\":\n",
    "        mnist.targets = torch.tensor(psuedo, dtype=torch.int64)\n",
    "        weights = [sum(psuedo==i)+1e-3 for i in set(psuedo)]\n",
    "        weights = 1 / torch.Tensor(weights)\n",
    "        sampler = torch.utils.data.sampler.WeightedRandomSampler(weights, batch_size)\n",
    "        shuffle=None\n",
    "        \n",
    "    dataloader = torch.utils.data.DataLoader(mnist, batch_size=batch_size, sampler=sampler, shuffle=shuffle)\n",
    "    \n",
    "    return dataloader"
   ]
  },
  {
   "cell_type": "code",
   "execution_count": 75,
   "metadata": {},
   "outputs": [],
   "source": [
    "def compute_features(dataloader, model):\n",
    "    \n",
    "    #device\n",
    "    device = 'cuda' if torch.cuda.is_available() else 'cpu'\n",
    "    \n",
    "    #\n",
    "    N = len(dataloader.dataset)\n",
    "    batch_size = dataloader.batch_size\n",
    "    \n",
    "    \n",
    "    model.eval()\n",
    "    \n",
    "    # discard the label information in the dataloader\n",
    "    for i, (image, _) in enumerate(dataloader):\n",
    "        image = image.to(device)\n",
    "        aux = model(image).data.cpu().numpy()\n",
    "\n",
    "        if i == 0:\n",
    "            features = np.zeros((N, aux.shape[1]), dtype='float32')\n",
    "\n",
    "        aux = aux.astype('float32')\n",
    "        \n",
    "        if i < len(dataloader) - 1:\n",
    "            features[i * batch_size: (i + 1) * batch_size] = aux\n",
    "        else:\n",
    "            # special treatment for final batch\n",
    "            features[i * batch_size:] = aux\n",
    "\n",
    "    return features"
   ]
  },
  {
   "cell_type": "code",
   "execution_count": 76,
   "metadata": {},
   "outputs": [],
   "source": [
    "def train_model(loader, model, criterion, optimizer):\n",
    "    \n",
    "    #device\n",
    "    device = 'cuda' if torch.cuda.is_available() else 'cpu'\n",
    "    \n",
    "    batch_size = loader.batch_size\n",
    "    loss_avg = 0\n",
    "    \n",
    "    # switch to train mode\n",
    "    model.train()\n",
    "\n",
    "    # create an optimizer for the last fc layer\n",
    "    optimizer_tl = torch.optim.SGD(model.top_layer.parameters(), lr=1e-5)\n",
    "\n",
    "    for i, (image, label) in enumerate(loader):\n",
    "        \n",
    "        image = image.to(device)\n",
    "        label = label.to(device)\n",
    "        \n",
    "        output = model(image)\n",
    "        \n",
    "        loss = criterion(output, label)\n",
    "        \n",
    "        # compute gradient and do SGD step\n",
    "        optimizer.zero_grad()\n",
    "        optimizer_tl.zero_grad()\n",
    "        loss.backward()\n",
    "        optimizer.step()\n",
    "        optimizer_tl.step()\n",
    "        \n",
    "        loss_avg += loss.item()\n",
    "        \n",
    "    loss_avg = loss_avg/batch_size\n",
    "    \n",
    "    print(loss_avg)\n",
    "    \n",
    "    return model, loss_avg\n"
   ]
  },
  {
   "cell_type": "code",
   "execution_count": 77,
   "metadata": {},
   "outputs": [
    {
     "name": "stdout",
     "output_type": "stream",
     "text": [
      "epoch: 0 \n",
      "0.018665634095668793\n",
      "epoch: 1 \n",
      "0.01894414983689785\n",
      "epoch: 2 \n",
      "0.017867108806967735\n",
      "epoch: 3 \n",
      "0.020792115479707718\n",
      "epoch: 4 \n",
      "0.01893959380686283\n",
      "epoch: 5 \n",
      "0.020028861239552498\n",
      "epoch: 6 \n",
      "0.01934843696653843\n",
      "epoch: 7 \n",
      "0.01952195353806019\n",
      "epoch: 8 \n",
      "0.018934041261672974\n",
      "epoch: 9 \n",
      "0.02033783495426178\n",
      "epoch: 10 \n",
      "0.017667194828391075\n",
      "epoch: 11 \n",
      "0.019529273733496666\n",
      "epoch: 12 \n",
      "0.02008606120944023\n",
      "epoch: 13 \n",
      "0.018455199897289276\n",
      "epoch: 14 \n",
      "0.018718281760811806\n",
      "epoch: 15 \n",
      "0.016879824921488762\n",
      "epoch: 16 \n",
      "0.01867336966097355\n",
      "epoch: 17 \n",
      "0.018845176324248314\n",
      "epoch: 18 \n",
      "0.017131103202700615\n",
      "epoch: 19 \n",
      "0.01903916336596012\n",
      "epoch: 20 \n",
      "0.01996452547609806\n",
      "epoch: 21 \n",
      "0.019327523186802864\n",
      "epoch: 22 \n",
      "0.018080469220876694\n",
      "epoch: 23 \n",
      "0.020186670124530792\n",
      "epoch: 24 \n",
      "0.017874540761113167\n",
      "epoch: 25 \n",
      "0.019402921199798584\n",
      "epoch: 26 \n",
      "0.019619479775428772\n",
      "epoch: 27 \n",
      "0.017415793612599373\n",
      "epoch: 28 \n",
      "0.018542999401688576\n",
      "epoch: 29 \n",
      "0.019227515906095505\n",
      "epoch: 30 \n",
      "0.019999325275421143\n",
      "epoch: 31 \n",
      "0.020344354212284088\n",
      "epoch: 32 \n",
      "0.01786586083471775\n",
      "epoch: 33 \n",
      "0.020474232733249664\n",
      "epoch: 34 \n",
      "0.018479524180293083\n",
      "epoch: 35 \n",
      "0.01872008666396141\n",
      "epoch: 36 \n",
      "0.018886543810367584\n",
      "epoch: 37 \n",
      "0.020488649606704712\n",
      "epoch: 38 \n",
      "0.017585985362529755\n",
      "epoch: 39 \n",
      "0.018565278500318527\n",
      "epoch: 40 \n",
      "0.01830446533858776\n",
      "epoch: 41 \n",
      "0.01909823901951313\n",
      "epoch: 42 \n",
      "0.018276385962963104\n",
      "epoch: 43 \n",
      "0.021811388432979584\n",
      "epoch: 44 \n",
      "0.01926332898437977\n",
      "epoch: 45 \n",
      "0.020899944007396698\n",
      "epoch: 46 \n",
      "0.019200561568140984\n",
      "epoch: 47 \n",
      "0.018597949296236038\n",
      "epoch: 48 \n",
      "0.018629178404808044\n",
      "epoch: 49 \n",
      "0.01808883063495159\n",
      "epoch: 50 \n",
      "0.018328705802559853\n",
      "epoch: 51 \n",
      "0.019411927089095116\n",
      "epoch: 52 \n",
      "0.018944501876831055\n",
      "epoch: 53 \n",
      "0.018816744908690453\n",
      "epoch: 54 \n",
      "0.018884506076574326\n",
      "epoch: 55 \n",
      "0.019253039732575417\n",
      "epoch: 56 \n",
      "0.019607892259955406\n",
      "epoch: 57 \n",
      "0.02019672468304634\n",
      "epoch: 58 \n",
      "0.01898173987865448\n",
      "epoch: 59 \n",
      "0.019222049042582512\n",
      "epoch: 60 \n",
      "0.018114862963557243\n",
      "epoch: 61 \n",
      "0.018614597618579865\n",
      "epoch: 62 \n",
      "0.018500616773962975\n",
      "epoch: 63 \n",
      "0.01787586137652397\n",
      "epoch: 64 \n",
      "0.02061852440237999\n",
      "epoch: 65 \n",
      "0.01926766335964203\n",
      "epoch: 66 \n",
      "0.018919218331575394\n",
      "epoch: 67 \n",
      "0.020181534811854362\n",
      "epoch: 68 \n",
      "0.0188875924795866\n",
      "epoch: 69 \n",
      "0.019054681062698364\n",
      "epoch: 70 \n",
      "0.01908368058502674\n",
      "epoch: 71 \n",
      "0.019948437809944153\n",
      "epoch: 72 \n",
      "0.01925397850573063\n",
      "epoch: 73 \n",
      "0.018841369077563286\n",
      "epoch: 74 \n",
      "0.019020002335309982\n",
      "epoch: 75 \n",
      "0.01940874382853508\n",
      "epoch: 76 \n",
      "0.018523920327425003\n",
      "epoch: 77 \n",
      "0.019199414178729057\n",
      "epoch: 78 \n",
      "0.01924610696732998\n",
      "epoch: 79 \n",
      "0.019284330308437347\n",
      "epoch: 80 \n",
      "0.019563468173146248\n",
      "epoch: 81 \n",
      "0.01874689571559429\n",
      "epoch: 82 \n",
      "0.019754232838749886\n",
      "epoch: 83 \n",
      "0.018103567883372307\n",
      "epoch: 84 \n",
      "0.018061811104416847\n",
      "epoch: 85 \n",
      "0.018515273928642273\n",
      "epoch: 86 \n",
      "0.01820986717939377\n",
      "epoch: 87 \n",
      "0.0190034918487072\n",
      "epoch: 88 \n",
      "0.018738288432359695\n",
      "epoch: 89 \n",
      "0.018772542476654053\n",
      "epoch: 90 \n",
      "0.018919285386800766\n",
      "epoch: 91 \n",
      "0.018627826124429703\n",
      "epoch: 92 \n",
      "0.019013220444321632\n",
      "epoch: 93 \n",
      "0.01948377676308155\n",
      "epoch: 94 \n",
      "0.019425904378294945\n",
      "epoch: 95 \n",
      "0.018292788416147232\n",
      "epoch: 96 \n",
      "0.01914467290043831\n",
      "epoch: 97 \n",
      "0.01972435973584652\n",
      "epoch: 98 \n",
      "0.019400114193558693\n",
      "epoch: 99 \n",
      "0.020111845806241035\n",
      "epoch: 100 \n",
      "0.018833300098776817\n",
      "epoch: 101 \n",
      "0.02070668525993824\n",
      "epoch: 102 \n",
      "0.019262069836258888\n",
      "epoch: 103 \n",
      "0.019473949447274208\n",
      "epoch: 104 \n",
      "0.018495550379157066\n",
      "epoch: 105 \n",
      "0.01967635378241539\n",
      "epoch: 106 \n",
      "0.01907181553542614\n",
      "epoch: 107 \n",
      "0.019753025844693184\n",
      "epoch: 108 \n",
      "0.018760230392217636\n",
      "epoch: 109 \n",
      "0.01948215812444687\n",
      "epoch: 110 \n",
      "0.01903318613767624\n",
      "epoch: 111 \n",
      "0.019847379997372627\n",
      "epoch: 112 \n",
      "0.019328521564602852\n",
      "epoch: 113 \n",
      "0.01992531307041645\n",
      "epoch: 114 \n",
      "0.01934698224067688\n",
      "epoch: 115 \n",
      "0.020293772220611572\n",
      "epoch: 116 \n",
      "0.018942439928650856\n",
      "epoch: 117 \n",
      "0.018478721380233765\n",
      "epoch: 118 \n",
      "0.018933968618512154\n",
      "epoch: 119 \n",
      "0.018912091851234436\n",
      "epoch: 120 \n",
      "0.01903662271797657\n",
      "epoch: 121 \n",
      "0.01807710900902748\n",
      "epoch: 122 \n",
      "0.018772205337882042\n",
      "epoch: 123 \n",
      "0.01782696321606636\n",
      "epoch: 124 \n",
      "0.01844113878905773\n",
      "epoch: 125 \n",
      "0.01896350085735321\n",
      "epoch: 126 \n",
      "0.01941077783703804\n",
      "epoch: 127 \n",
      "0.018955888226628304\n",
      "epoch: 128 \n",
      "0.017880750820040703\n",
      "epoch: 129 \n",
      "0.020479371771216393\n",
      "epoch: 130 \n",
      "0.019242867827415466\n",
      "epoch: 131 \n",
      "0.01940806210041046\n",
      "epoch: 132 \n",
      "0.019242145121097565\n",
      "epoch: 133 \n",
      "0.020069412887096405\n",
      "epoch: 134 \n",
      "0.019970957189798355\n",
      "epoch: 135 \n",
      "0.01953515037894249\n",
      "epoch: 136 \n",
      "0.01842137612402439\n",
      "epoch: 137 \n",
      "0.018187113106250763\n",
      "epoch: 138 \n",
      "0.018918650224804878\n",
      "epoch: 139 \n",
      "0.01862022839486599\n",
      "epoch: 140 \n",
      "0.018770376220345497\n",
      "epoch: 141 \n",
      "0.01974550075829029\n",
      "epoch: 142 \n",
      "0.019623536616563797\n",
      "epoch: 143 \n",
      "0.01875489577651024\n",
      "epoch: 144 \n",
      "0.018288718536496162\n",
      "epoch: 145 \n",
      "0.01862029731273651\n",
      "epoch: 146 \n",
      "0.019383005797863007\n",
      "epoch: 147 \n",
      "0.018166212365031242\n",
      "epoch: 148 \n",
      "0.018803425133228302\n",
      "epoch: 149 \n",
      "0.01899491250514984\n",
      "epoch: 150 \n",
      "0.01890273578464985\n",
      "epoch: 151 \n",
      "0.021824005991220474\n",
      "epoch: 152 \n",
      "0.019190313294529915\n",
      "epoch: 153 \n",
      "0.018020519986748695\n",
      "epoch: 154 \n",
      "0.01723376289010048\n",
      "epoch: 155 \n",
      "0.01905282586812973\n",
      "epoch: 156 \n",
      "0.018773438408970833\n",
      "epoch: 157 \n",
      "0.02068212814629078\n",
      "epoch: 158 \n",
      "0.019866924732923508\n",
      "epoch: 159 \n",
      "0.019514305517077446\n",
      "epoch: 160 \n",
      "0.017552951350808144\n",
      "epoch: 161 \n",
      "0.020887937396764755\n",
      "epoch: 162 \n",
      "0.01976745016872883\n",
      "epoch: 163 \n",
      "0.019954221323132515\n",
      "epoch: 164 \n",
      "0.019577279686927795\n",
      "epoch: 165 \n",
      "0.018486566841602325\n",
      "epoch: 166 \n",
      "0.0183714646846056\n",
      "epoch: 167 \n",
      "0.018860533833503723\n",
      "epoch: 168 \n",
      "0.016806812956929207\n",
      "epoch: 169 \n",
      "0.018936390057206154\n",
      "epoch: 170 \n",
      "0.01958313211798668\n",
      "epoch: 171 \n",
      "0.019365236163139343\n",
      "epoch: 172 \n",
      "0.021082062274217606\n",
      "epoch: 173 \n",
      "0.018390582874417305\n",
      "epoch: 174 \n",
      "0.01949959062039852\n",
      "epoch: 175 \n",
      "0.019039548933506012\n",
      "epoch: 176 \n",
      "0.019891604781150818\n",
      "epoch: 177 \n",
      "0.018602700904011726\n",
      "epoch: 178 \n",
      "0.01958436146378517\n",
      "epoch: 179 \n",
      "0.019834918901324272\n",
      "epoch: 180 \n",
      "0.02047146111726761\n",
      "epoch: 181 \n",
      "0.018440095707774162\n",
      "epoch: 182 \n",
      "0.019636228680610657\n",
      "epoch: 183 \n",
      "0.018619520589709282\n",
      "epoch: 184 \n",
      "0.01905161514878273\n",
      "epoch: 185 \n",
      "0.019994504749774933\n",
      "epoch: 186 \n",
      "0.01873829774558544\n",
      "epoch: 187 \n",
      "0.018344566226005554\n",
      "epoch: 188 \n",
      "0.018612556159496307\n",
      "epoch: 189 \n",
      "0.019218001514673233\n",
      "epoch: 190 \n",
      "0.019054384902119637\n",
      "epoch: 191 \n",
      "0.01920662261545658\n",
      "epoch: 192 \n",
      "0.020127013325691223\n",
      "epoch: 193 \n",
      "0.018938623368740082\n",
      "epoch: 194 \n",
      "0.01989947445690632\n",
      "epoch: 195 \n",
      "0.019287297502160072\n",
      "epoch: 196 \n",
      "0.020035116001963615\n",
      "epoch: 197 \n",
      "0.0187230184674263\n",
      "epoch: 198 \n",
      "0.019319025799632072\n",
      "epoch: 199 \n",
      "0.018768342211842537\n",
      "epoch: 200 \n",
      "0.019987476989626884\n",
      "epoch: 201 \n",
      "0.018184872344136238\n",
      "epoch: 202 \n",
      "0.018039796501398087\n",
      "epoch: 203 \n",
      "0.019199497997760773\n",
      "epoch: 204 \n",
      "0.018201489001512527\n",
      "epoch: 205 \n",
      "0.018422476947307587\n",
      "epoch: 206 \n",
      "0.018831580877304077\n",
      "epoch: 207 \n",
      "0.01985865645110607\n",
      "epoch: 208 \n",
      "0.018331730738282204\n",
      "epoch: 209 \n",
      "0.019032340496778488\n",
      "epoch: 210 \n",
      "0.01891239359974861\n",
      "epoch: 211 \n",
      "0.01833953708410263\n",
      "epoch: 212 \n",
      "0.020255226641893387\n",
      "epoch: 213 \n",
      "0.02056756801903248\n",
      "epoch: 214 \n",
      "0.017912276089191437\n",
      "epoch: 215 \n",
      "0.01834925077855587\n",
      "epoch: 216 \n",
      "0.01826144941151142\n",
      "epoch: 217 \n",
      "0.019163111224770546\n",
      "epoch: 218 \n",
      "0.020293405279517174\n",
      "epoch: 219 \n",
      "0.0187924075871706\n",
      "epoch: 220 \n",
      "0.0197245255112648\n",
      "epoch: 221 \n",
      "0.021549779921770096\n",
      "epoch: 222 \n",
      "0.01881108246743679\n",
      "epoch: 223 \n",
      "0.019707491621375084\n",
      "epoch: 224 \n",
      "0.01944325491786003\n",
      "epoch: 225 \n",
      "0.017794162034988403\n",
      "epoch: 226 \n",
      "0.019661378115415573\n",
      "epoch: 227 \n",
      "0.01926424168050289\n",
      "epoch: 228 \n",
      "0.01753537356853485\n",
      "epoch: 229 \n",
      "0.020648293197155\n",
      "epoch: 230 \n",
      "0.019152941182255745\n",
      "epoch: 231 \n",
      "0.020362472161650658\n",
      "epoch: 232 \n",
      "0.018687795847654343\n",
      "epoch: 233 \n",
      "0.017965862527489662\n",
      "epoch: 234 \n",
      "0.01866060122847557\n",
      "epoch: 235 \n",
      "0.019547631964087486\n",
      "epoch: 236 \n",
      "0.01844165101647377\n",
      "epoch: 237 \n",
      "0.01818089932203293\n",
      "epoch: 238 \n",
      "0.021069658920168877\n",
      "epoch: 239 \n",
      "0.01837962493300438\n",
      "epoch: 240 \n",
      "0.019736452028155327\n",
      "epoch: 241 \n",
      "0.020162878558039665\n",
      "epoch: 242 \n",
      "0.01974528655409813\n",
      "epoch: 243 \n",
      "0.01900799572467804\n",
      "epoch: 244 \n",
      "0.019136037677526474\n",
      "epoch: 245 \n",
      "0.020091885700821877\n",
      "epoch: 246 \n",
      "0.02029462158679962\n",
      "epoch: 247 \n",
      "0.017865175381302834\n",
      "epoch: 248 \n",
      "0.01880314201116562\n",
      "epoch: 249 \n",
      "0.01865503191947937\n",
      "epoch: 250 \n",
      "0.019814833998680115\n",
      "epoch: 251 \n",
      "0.018744461238384247\n",
      "epoch: 252 \n",
      "0.019017424434423447\n",
      "epoch: 253 \n",
      "0.019140444695949554\n",
      "epoch: 254 \n",
      "0.020224304869771004\n",
      "epoch: 255 \n",
      "0.01875164918601513\n",
      "epoch: 256 \n",
      "0.018350811675190926\n",
      "epoch: 257 \n",
      "0.018957773223519325\n",
      "epoch: 258 \n",
      "0.019182104617357254\n",
      "epoch: 259 \n",
      "0.019097141921520233\n",
      "epoch: 260 \n",
      "0.018807346001267433\n",
      "epoch: 261 \n",
      "0.018143661320209503\n",
      "epoch: 262 \n",
      "0.01886204071342945\n",
      "epoch: 263 \n",
      "0.018349597230553627\n",
      "epoch: 264 \n",
      "0.019764266908168793\n",
      "epoch: 265 \n",
      "0.02005794271826744\n",
      "epoch: 266 \n",
      "0.018588311970233917\n",
      "epoch: 267 \n",
      "0.01833149790763855\n",
      "epoch: 268 \n",
      "0.02019704319536686\n",
      "epoch: 269 \n",
      "0.02013271488249302\n",
      "epoch: 270 \n",
      "0.018032226711511612\n",
      "epoch: 271 \n",
      "0.0183391235768795\n",
      "epoch: 272 \n",
      "0.018680881708860397\n",
      "epoch: 273 \n",
      "0.01967502571642399\n",
      "epoch: 274 \n",
      "0.019679417833685875\n",
      "epoch: 275 \n",
      "0.017727360129356384\n",
      "epoch: 276 \n",
      "0.01919139362871647\n",
      "epoch: 277 \n",
      "0.018162086606025696\n",
      "epoch: 278 \n",
      "0.018803583458065987\n",
      "epoch: 279 \n",
      "0.019383268430829048\n",
      "epoch: 280 \n",
      "0.01868250221014023\n",
      "epoch: 281 \n",
      "0.01902156136929989\n",
      "epoch: 282 \n",
      "0.019665585830807686\n",
      "epoch: 283 \n",
      "0.018218807876110077\n",
      "epoch: 284 \n",
      "0.02002694457769394\n",
      "epoch: 285 \n",
      "0.018993541598320007\n",
      "epoch: 286 \n",
      "0.018570657819509506\n",
      "epoch: 287 \n",
      "0.018637796863913536\n",
      "epoch: 288 \n",
      "0.019341696053743362\n",
      "epoch: 289 \n",
      "0.020080262795090675\n",
      "epoch: 290 \n",
      "0.019663875922560692\n",
      "epoch: 291 \n",
      "0.01934557408094406\n",
      "epoch: 292 \n",
      "0.020157447084784508\n",
      "epoch: 293 \n",
      "0.01784253865480423\n",
      "epoch: 294 \n",
      "0.01985488273203373\n",
      "epoch: 295 \n",
      "0.018746037036180496\n",
      "epoch: 296 \n",
      "0.01863822527229786\n",
      "epoch: 297 \n",
      "0.018947070464491844\n",
      "epoch: 298 \n",
      "0.019156230613589287\n",
      "epoch: 299 \n",
      "0.019261950626969337\n",
      "20991.15079307556\n"
     ]
    }
   ],
   "source": [
    "start = time.time()\n",
    "model, loss_list = main()\n",
    "end = time.time()\n",
    "\n",
    "print(end-start)"
   ]
  },
  {
   "cell_type": "code",
   "execution_count": 78,
   "metadata": {},
   "outputs": [],
   "source": [
    "#psuedo = main()\n",
    "#psuedo"
   ]
  },
  {
   "cell_type": "code",
   "execution_count": 79,
   "metadata": {},
   "outputs": [],
   "source": [
    "p_time = end-start\n",
    "hour = int(p_time // 3600)\n",
    "tmp = p_time%3600\n",
    "minits = int(tmp // 60)\n",
    "second = int(tmp % 60)"
   ]
  },
  {
   "cell_type": "code",
   "execution_count": 80,
   "metadata": {},
   "outputs": [
    {
     "name": "stdout",
     "output_type": "stream",
     "text": [
      "5 h 49 m 51 s\n"
     ]
    }
   ],
   "source": [
    "print(f'{hour} h {minits} m {second} s')"
   ]
  },
  {
   "cell_type": "code",
   "execution_count": 81,
   "metadata": {},
   "outputs": [],
   "source": [
    "#====== 保存 =======\n",
    "torch.save(model.state_dict(), \"./params/model_300epoch_sampler.pth\")"
   ]
  },
  {
   "cell_type": "markdown",
   "metadata": {},
   "source": [
    "# Sending Email"
   ]
  },
  {
   "cell_type": "code",
   "execution_count": 82,
   "metadata": {},
   "outputs": [
    {
     "data": {
      "text/plain": [
       "True"
      ]
     },
     "execution_count": 82,
     "metadata": {},
     "output_type": "execute_result"
    }
   ],
   "source": [
    "path = \"C:/Users/ail11208/Google ドライブ（wshota.betashort@gmail.com）/Gmail/\"\n",
    "json_file = \"client_secret_502854301327-67cqeb21a5g6aed4ldpu5e4pr7e5at06.apps.googleusercontent.com.json\"\n",
    "os.path.exists(path+json_file)"
   ]
  },
  {
   "cell_type": "code",
   "execution_count": 83,
   "metadata": {},
   "outputs": [
    {
     "name": "stdout",
     "output_type": "stream",
     "text": [
      "Message Id: 1731adf6457f9544\n"
     ]
    }
   ],
   "source": [
    "message_text = f\"学習が終了しました。\\n {hour} h {minits}m {second}s　かかりました。 \"\n",
    "send_gmail(path, json_file, message_text)"
   ]
  },
  {
   "cell_type": "markdown",
   "metadata": {},
   "source": [
    "# test"
   ]
  },
  {
   "cell_type": "code",
   "execution_count": 84,
   "metadata": {},
   "outputs": [],
   "source": [
    "#==== preprocessing of image data =====\n",
    "image_transform = transforms.Compose([transforms.Resize(224),\n",
    "                                      transforms.ToTensor(),\n",
    "                                      transforms.Normalize(mean=[0.485], std=[0.229])])\n",
    "    \n",
    "#==== load the data ====\n",
    "dataloader_predict = mnist_dataloader(batch_size=128, transform=image_transform, shuffle=False)"
   ]
  },
  {
   "cell_type": "code",
   "execution_count": null,
   "metadata": {},
   "outputs": [],
   "source": []
  },
  {
   "cell_type": "code",
   "execution_count": 85,
   "metadata": {},
   "outputs": [],
   "source": [
    "def predict_model(dataloader, model):\n",
    "    \n",
    "    #device\n",
    "    device = 'cuda' if torch.cuda.is_available() else 'cpu'\n",
    "    \n",
    "    #\n",
    "    N = len(dataloader.dataset)\n",
    "    batch_size = dataloader.batch_size\n",
    "    \n",
    "    '''\n",
    "    # set last fully connected layer\n",
    "    top_layer = model.top_layer\n",
    "    model.top_layer = nn.Sequential(top_layer,\n",
    "                                    nn.Softmax(dim=1))\n",
    "    '''\n",
    "    model.eval()\n",
    "    \n",
    "    # discard the label information in the dataloader\n",
    "    for i, (image, label) in enumerate(dataloader):\n",
    "        image = image.to(device)\n",
    "        \n",
    "        aux = model(image).data.cpu().numpy()\n",
    "        aux_label = np.argmax(aux, axis=1)\n",
    "        \n",
    "        label = label.detach().clone().cpu().numpy()\n",
    "        \n",
    "        if i == 0:\n",
    "            features = np.zeros((N, aux.shape[1]), dtype='float32')\n",
    "            pred = np.zeros(N, dtype='int64')\n",
    "            target = np.zeros(N, dtype='int64')\n",
    "            \n",
    "        aux = aux.astype('float32')\n",
    "        aux_label = aux_label.astype('int64')\n",
    "        \n",
    "        if i < len(dataloader) - 1:\n",
    "            features[i * batch_size: (i + 1) * batch_size] = aux\n",
    "            pred[i * batch_size: (i + 1) * batch_size] = aux_label\n",
    "            target[i * batch_size: (i + 1) * batch_size] = label\n",
    "        else:\n",
    "            # special treatment for final batch\n",
    "            features[i * batch_size:] = aux\n",
    "            pred[i * batch_size:] = aux_label\n",
    "            target[i * batch_size:] = label\n",
    "\n",
    "    return features, pred, target"
   ]
  },
  {
   "cell_type": "code",
   "execution_count": 86,
   "metadata": {},
   "outputs": [],
   "source": [
    "import matplotlib.pyplot as plt"
   ]
  },
  {
   "cell_type": "code",
   "execution_count": 93,
   "metadata": {},
   "outputs": [
    {
     "data": {
      "text/plain": [
       "IncompatibleKeys(missing_keys=[], unexpected_keys=[])"
      ]
     },
     "execution_count": 93,
     "metadata": {},
     "output_type": "execute_result"
    }
   ],
   "source": [
    "#==== preprocessing of image data =====\n",
    "image_transform = transforms.Compose([transforms.Resize(224),\n",
    "                                      transforms.ToTensor(),\n",
    "                                      transforms.Normalize(mean=[0.485], std=[0.229])])\n",
    "    \n",
    "#==== load the data ====\n",
    "dataloader_predict = mnist_dataloader(batch_size=128, transform=image_transform, shuffle=False)\n",
    "\n",
    "#device\n",
    "device = 'cuda' if torch.cuda.is_available() else 'cpu'\n",
    "\n",
    "model = alexnet(in_dim=1, n_class=10)\n",
    "model.to(device)\n",
    "#====== ロード =======\n",
    "model.load_state_dict(torch.load(\"./params/model_300epoch_sampler.pth\", map_location=device))"
   ]
  },
  {
   "cell_type": "code",
   "execution_count": 94,
   "metadata": {},
   "outputs": [],
   "source": [
    "features, pred, target = predict_model(dataloader_predict, model)"
   ]
  },
  {
   "cell_type": "code",
   "execution_count": 95,
   "metadata": {},
   "outputs": [
    {
     "name": "stdout",
     "output_type": "stream",
     "text": [
      "(60000, 10)\n",
      "(60000,)\n",
      "(60000,)\n"
     ]
    }
   ],
   "source": [
    "print(features.shape)\n",
    "print(pred.shape)\n",
    "print(target.shape)"
   ]
  },
  {
   "cell_type": "code",
   "execution_count": 96,
   "metadata": {},
   "outputs": [
    {
     "data": {
      "text/plain": [
       "1.0977429"
      ]
     },
     "execution_count": 96,
     "metadata": {},
     "output_type": "execute_result"
    }
   ],
   "source": [
    "features[1].sum()"
   ]
  },
  {
   "cell_type": "markdown",
   "metadata": {},
   "source": [
    "# 300sampler"
   ]
  },
  {
   "cell_type": "code",
   "execution_count": 97,
   "metadata": {},
   "outputs": [
    {
     "data": {
      "text/plain": [
       "(array([1.8400e+02, 4.5000e+01, 3.0000e+00, 1.3302e+04, 1.8500e+02,\n",
       "        0.0000e+00, 4.6253e+04, 2.7000e+01, 0.0000e+00, 1.0000e+00]),\n",
       " array([0. , 0.9, 1.8, 2.7, 3.6, 4.5, 5.4, 6.3, 7.2, 8.1, 9. ]),\n",
       " <a list of 10 Patch objects>)"
      ]
     },
     "execution_count": 97,
     "metadata": {},
     "output_type": "execute_result"
    },
    {
     "data": {
      "image/png": "[encoded data removed]",
      "text/plain": [
       "<Figure size 432x288 with 1 Axes>"
      ]
     },
     "metadata": {
      "needs_background": "light"
     },
     "output_type": "display_data"
    }
   ],
   "source": [
    "plt.hist(pred)"
   ]
  },
  {
   "cell_type": "markdown",
   "metadata": {},
   "source": [
    "# 100_sampler"
   ]
  },
  {
   "cell_type": "code",
   "execution_count": 37,
   "metadata": {},
   "outputs": [
    {
     "data": {
      "text/plain": [
       "(array([4.3700e+02, 4.6970e+03, 0.0000e+00, 1.4340e+03, 1.0000e+00,\n",
       "        2.5978e+04, 8.4900e+02, 3.0000e+00, 0.0000e+00, 2.6601e+04]),\n",
       " array([0. , 0.9, 1.8, 2.7, 3.6, 4.5, 5.4, 6.3, 7.2, 8.1, 9. ]),\n",
       " <a list of 10 Patch objects>)"
      ]
     },
     "execution_count": 37,
     "metadata": {},
     "output_type": "execute_result"
    },
    {
     "data": {
      "image/png": "[encoded data removed]",
      "text/plain": [
       "<Figure size 432x288 with 1 Axes>"
      ]
     },
     "metadata": {
      "needs_background": "light"
     },
     "output_type": "display_data"
    }
   ],
   "source": [
    "plt.hist(pred)"
   ]
  },
  {
   "cell_type": "markdown",
   "metadata": {},
   "source": [
    "# 200 epoch"
   ]
  },
  {
   "cell_type": "code",
   "execution_count": 60,
   "metadata": {},
   "outputs": [
    {
     "data": {
      "text/plain": [
       "(array([14431.,   907.,  8013.,     0.,     0.,  1393.,  4222.,     0.,\n",
       "        17043., 13991.]),\n",
       " array([0. , 0.8, 1.6, 2.4, 3.2, 4. , 4.8, 5.6, 6.4, 7.2, 8. ]),\n",
       " <a list of 10 Patch objects>)"
      ]
     },
     "execution_count": 60,
     "metadata": {},
     "output_type": "execute_result"
    },
    {
     "data": {
      "image/png": "[encoded data removed]",
      "text/plain": [
       "<Figure size 432x288 with 1 Axes>"
      ]
     },
     "metadata": {
      "needs_background": "light"
     },
     "output_type": "display_data"
    }
   ],
   "source": [
    "plt.hist(pred)"
   ]
  },
  {
   "cell_type": "markdown",
   "metadata": {},
   "source": [
    "# 100 epoch"
   ]
  },
  {
   "cell_type": "code",
   "execution_count": 23,
   "metadata": {},
   "outputs": [
    {
     "data": {
      "text/plain": [
       "(array([19666.,   207.,  1196.,  7568.,     0., 22764.,     0.,  6470.,\n",
       "         1444.,   685.]),\n",
       " array([1. , 1.8, 2.6, 3.4, 4.2, 5. , 5.8, 6.6, 7.4, 8.2, 9. ]),\n",
       " <a list of 10 Patch objects>)"
      ]
     },
     "execution_count": 23,
     "metadata": {},
     "output_type": "execute_result"
    },
    {
     "data": {
      "image/png": "[encoded data removed]",
      "text/plain": [
       "<Figure size 432x288 with 1 Axes>"
      ]
     },
     "metadata": {
      "needs_background": "light"
     },
     "output_type": "display_data"
    }
   ],
   "source": [
    "plt.hist(pred)"
   ]
  },
  {
   "cell_type": "markdown",
   "metadata": {},
   "source": [
    "# True"
   ]
  },
  {
   "cell_type": "code",
   "execution_count": 24,
   "metadata": {},
   "outputs": [
    {
     "data": {
      "text/plain": [
       "(array([5923., 6742., 5958., 6131., 5842., 5421., 5918., 6265., 5851.,\n",
       "        5949.]),\n",
       " array([0. , 0.9, 1.8, 2.7, 3.6, 4.5, 5.4, 6.3, 7.2, 8.1, 9. ]),\n",
       " <a list of 10 Patch objects>)"
      ]
     },
     "execution_count": 24,
     "metadata": {},
     "output_type": "execute_result"
    },
    {
     "data": {
      "image/png": "[encoded data removed]",
      "text/plain": [
       "<Figure size 432x288 with 1 Axes>"
      ]
     },
     "metadata": {
      "needs_background": "light"
     },
     "output_type": "display_data"
    }
   ],
   "source": [
    "plt.hist(target)"
   ]
  },
  {
   "cell_type": "code",
   "execution_count": 25,
   "metadata": {},
   "outputs": [
    {
     "data": {
      "text/plain": [
       "array([5, 7, 9, ..., 5, 7, 4], dtype=int64)"
      ]
     },
     "execution_count": 25,
     "metadata": {},
     "output_type": "execute_result"
    }
   ],
   "source": [
    "pred"
   ]
  },
  {
   "cell_type": "code",
   "execution_count": 26,
   "metadata": {},
   "outputs": [
    {
     "data": {
      "text/plain": [
       "array([5, 0, 4, ..., 5, 6, 8], dtype=int64)"
      ]
     },
     "execution_count": 26,
     "metadata": {},
     "output_type": "execute_result"
    }
   ],
   "source": [
    "target"
   ]
  },
  {
   "cell_type": "code",
   "execution_count": 38,
   "metadata": {},
   "outputs": [],
   "source": [
    "idx = 3\n",
    "image = dataloader_predict.dataset.data[idx].detach().clone().numpy()\n",
    "label = dataloader_predict.dataset.targets[idx].detach().clone().numpy()\n",
    "pred_label = pred[idx]"
   ]
  },
  {
   "cell_type": "code",
   "execution_count": 39,
   "metadata": {},
   "outputs": [
    {
     "data": {
      "image/png": "[encoded data removed]",
      "text/plain": [
       "<Figure size 432x288 with 1 Axes>"
      ]
     },
     "metadata": {
      "needs_background": "light"
     },
     "output_type": "display_data"
    },
    {
     "name": "stdout",
     "output_type": "stream",
     "text": [
      "True:  1\n",
      "pred:  5\n"
     ]
    }
   ],
   "source": [
    "plt.imshow(image, 'gray')\n",
    "plt.show()\n",
    "\n",
    "print(\"True: \", int(label))\n",
    "print(\"pred: \", int(pred_label))"
   ]
  },
  {
   "cell_type": "code",
   "execution_count": 98,
   "metadata": {},
   "outputs": [],
   "source": [
    "labels = pd.DataFrame({\"pred\": pred, \"target\": target})"
   ]
  },
  {
   "cell_type": "code",
   "execution_count": 99,
   "metadata": {},
   "outputs": [
    {
     "data": {
      "text/html": [
       "<div>\n",
       "<style scoped>\n",
       "    .dataframe tbody tr th:only-of-type {\n",
       "        vertical-align: middle;\n",
       "    }\n",
       "\n",
       "    .dataframe tbody tr th {\n",
       "        vertical-align: top;\n",
       "    }\n",
       "\n",
       "    .dataframe thead th {\n",
       "        text-align: right;\n",
       "    }\n",
       "</style>\n",
       "<table border=\"1\" class=\"dataframe\">\n",
       "  <thead>\n",
       "    <tr style=\"text-align: right;\">\n",
       "      <th></th>\n",
       "      <th>pred</th>\n",
       "      <th>target</th>\n",
       "    </tr>\n",
       "  </thead>\n",
       "  <tbody>\n",
       "    <tr>\n",
       "      <th>0</th>\n",
       "      <td>6</td>\n",
       "      <td>5</td>\n",
       "    </tr>\n",
       "    <tr>\n",
       "      <th>1</th>\n",
       "      <td>6</td>\n",
       "      <td>0</td>\n",
       "    </tr>\n",
       "    <tr>\n",
       "      <th>2</th>\n",
       "      <td>6</td>\n",
       "      <td>4</td>\n",
       "    </tr>\n",
       "    <tr>\n",
       "      <th>3</th>\n",
       "      <td>6</td>\n",
       "      <td>1</td>\n",
       "    </tr>\n",
       "    <tr>\n",
       "      <th>4</th>\n",
       "      <td>6</td>\n",
       "      <td>9</td>\n",
       "    </tr>\n",
       "    <tr>\n",
       "      <th>...</th>\n",
       "      <td>...</td>\n",
       "      <td>...</td>\n",
       "    </tr>\n",
       "    <tr>\n",
       "      <th>59995</th>\n",
       "      <td>6</td>\n",
       "      <td>8</td>\n",
       "    </tr>\n",
       "    <tr>\n",
       "      <th>59996</th>\n",
       "      <td>6</td>\n",
       "      <td>3</td>\n",
       "    </tr>\n",
       "    <tr>\n",
       "      <th>59997</th>\n",
       "      <td>6</td>\n",
       "      <td>5</td>\n",
       "    </tr>\n",
       "    <tr>\n",
       "      <th>59998</th>\n",
       "      <td>6</td>\n",
       "      <td>6</td>\n",
       "    </tr>\n",
       "    <tr>\n",
       "      <th>59999</th>\n",
       "      <td>3</td>\n",
       "      <td>8</td>\n",
       "    </tr>\n",
       "  </tbody>\n",
       "</table>\n",
       "<p>60000 rows × 2 columns</p>\n",
       "</div>"
      ],
      "text/plain": [
       "       pred  target\n",
       "0         6       5\n",
       "1         6       0\n",
       "2         6       4\n",
       "3         6       1\n",
       "4         6       9\n",
       "...     ...     ...\n",
       "59995     6       8\n",
       "59996     6       3\n",
       "59997     6       5\n",
       "59998     6       6\n",
       "59999     3       8\n",
       "\n",
       "[60000 rows x 2 columns]"
      ]
     },
     "execution_count": 99,
     "metadata": {},
     "output_type": "execute_result"
    }
   ],
   "source": [
    "labels"
   ]
  },
  {
   "cell_type": "code",
   "execution_count": 100,
   "metadata": {},
   "outputs": [],
   "source": [
    "label_assign = labels.groupby(\"pred\")[\"target\"].apply(lambda x: x.mode()[0])"
   ]
  },
  {
   "cell_type": "code",
   "execution_count": 101,
   "metadata": {},
   "outputs": [
    {
     "data": {
      "text/plain": [
       "pred\n",
       "0    7\n",
       "1    0\n",
       "2    0\n",
       "3    7\n",
       "4    4\n",
       "6    6\n",
       "7    8\n",
       "9    4\n",
       "Name: target, dtype: int64"
      ]
     },
     "execution_count": 101,
     "metadata": {},
     "output_type": "execute_result"
    }
   ],
   "source": [
    "label_assign"
   ]
  },
  {
   "cell_type": "code",
   "execution_count": 102,
   "metadata": {},
   "outputs": [],
   "source": [
    "label_dict = label_assign.to_dict()"
   ]
  },
  {
   "cell_type": "code",
   "execution_count": 103,
   "metadata": {},
   "outputs": [],
   "source": [
    "label_a = labels[\"pred\"].replace(label_dict).copy()"
   ]
  },
  {
   "cell_type": "code",
   "execution_count": 126,
   "metadata": {},
   "outputs": [],
   "source": [
    "idx = label_a[label_a==7].index"
   ]
  },
  {
   "cell_type": "code",
   "execution_count": 127,
   "metadata": {},
   "outputs": [],
   "source": [
    "image = dataloader_predict.dataset.data[idx]"
   ]
  },
  {
   "cell_type": "code",
   "execution_count": 128,
   "metadata": {},
   "outputs": [
    {
     "data": {
      "text/plain": [
       "<matplotlib.image.AxesImage at 0x17d26783080>"
      ]
     },
     "execution_count": 128,
     "metadata": {},
     "output_type": "execute_result"
    },
    {
     "data": {
      "image/png": "[encoded data removed]",
      "text/plain": [
       "<Figure size 432x288 with 1 Axes>"
      ]
     },
     "metadata": {
      "needs_background": "light"
     },
     "output_type": "display_data"
    }
   ],
   "source": [
    "plt.imshow(image[0], 'gray')"
   ]
  },
  {
   "cell_type": "code",
   "execution_count": null,
   "metadata": {},
   "outputs": [],
   "source": []
  },
  {
   "cell_type": "code",
   "execution_count": null,
   "metadata": {},
   "outputs": [],
   "source": []
  }
 ],
 "metadata": {
  "kernelspec": {
   "display_name": "Python 3",
   "language": "python",
   "name": "python3"
  },
  "language_info": {
   "codemirror_mode": {
    "name": "ipython",
    "version": 3
   },
   "file_extension": ".py",
   "mimetype": "text/x-python",
   "name": "python",
   "nbconvert_exporter": "python",
   "pygments_lexer": "ipython3",
   "version": "3.6.8"
  }
 },
 "nbformat": 4,
 "nbformat_minor": 4
}
