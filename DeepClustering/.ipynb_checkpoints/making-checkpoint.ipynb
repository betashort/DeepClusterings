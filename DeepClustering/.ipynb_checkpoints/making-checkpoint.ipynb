{
 "cells": [
  {
   "cell_type": "markdown",
   "metadata": {},
   "source": [
    "# Deep Clustering for Unsupervised Learning of Visual Features"
   ]
  },
  {
   "cell_type": "code",
   "execution_count": null,
   "metadata": {},
   "outputs": [],
   "source": [
    "#==== random seeds ====\n",
    "#乱数の設定\n",
    "torch.manual_seed(args.seed)\n",
    "torch.cuda.manual_seed_all(args.seed)\n",
    "np.random.seed(args.seed)\n",
    "\n",
    "#==== CNN model ====\n",
    "#モデルの定義\n",
    "\n",
    "#==== Clustering Algorithm ====\n",
    "#クラスタリング　アルゴリズムの定義\n",
    "#k-meansなど\n",
    "\n",
    "\n",
    "\n",
    "#==== optimizer ====\n",
    "#最適化の定義\n",
    "optimizer = torch.optim.SGD(\n",
    "    filter(lambda x: x.requires_grad, model.parameters()),\n",
    "    lr=args.lr,\n",
    "    momentum=args.momentum,\n",
    "    weight_decay=10**args.wd,\n",
    ")\n",
    "\n",
    "#==== define loss function ====\n",
    "#損失関数の定義\n",
    "criterion = nn.CrossEntropyLoss().cuda()\n",
    "\n",
    "\n",
    "#==== train roop ====\n",
    "#batch処理をしない\n",
    "#\n",
    "for epoch in range(n_epochs):\n",
    "    \n",
    "    #==== All data ====\n",
    "    # forward\n",
    "    features = model.forward()\n",
    "    # clustering\n",
    "    \n",
    "    \n",
    "    #==== train by pseudo-labels use batch ====\n",
    "    #train_dataloader\n",
    "    for i, (image, target) in enumerate(loader):\n",
    "        output = model()\n",
    "        loss = c(output, target)\n",
    "        \n",
    "        loss.update\n",
    "        optimizer.zero_grad()\n",
    "        loss.backward()\n",
    "        optimizer.step()\n",
    "        \n",
    "        '''\n",
    "        # compute gradient and do SGD step\n",
    "        opt.zero_grad()\n",
    "        optimizer_tl.zero_grad()\n",
    "        loss.backward()\n",
    "        opt.step()\n",
    "        optimizer_tl.step()\n",
    "        '''\n",
    "        \n",
    "        print(loss)\n",
    "        \n",
    "        "
   ]
  },
  {
   "cell_type": "code",
   "execution_count": 1,
   "metadata": {},
   "outputs": [],
   "source": [
    "import torch\n",
    "import torch.nn as nn\n",
    "import torch.optim as optim"
   ]
  },
  {
   "cell_type": "code",
   "execution_count": 2,
   "metadata": {},
   "outputs": [],
   "source": [
    "from alexnet import AlexNet"
   ]
  },
  {
   "cell_type": "code",
   "execution_count": 3,
   "metadata": {},
   "outputs": [],
   "source": [
    "device = 'cuda' if torch.cuda.is_available() else 'cpu'"
   ]
  },
  {
   "cell_type": "code",
   "execution_count": 4,
   "metadata": {},
   "outputs": [],
   "source": [
    "net  = AlexNet(1, 3).to(device)"
   ]
  },
  {
   "cell_type": "code",
   "execution_count": 9,
   "metadata": {},
   "outputs": [],
   "source": [
    "x = torch.FloatTensor(10, 1, 224, 224)\n",
    "x = x.to(device)"
   ]
  },
  {
   "cell_type": "code",
   "execution_count": 10,
   "metadata": {},
   "outputs": [],
   "source": [
    "output = net(x)"
   ]
  },
  {
   "cell_type": "code",
   "execution_count": 15,
   "metadata": {},
   "outputs": [],
   "source": [
    "output = output.to('cpu').detach().clone().numpy()"
   ]
  },
  {
   "cell_type": "code",
   "execution_count": 16,
   "metadata": {},
   "outputs": [
    {
     "data": {
      "text/plain": [
       "(10, 3)"
      ]
     },
     "execution_count": 16,
     "metadata": {},
     "output_type": "execute_result"
    }
   ],
   "source": [
    "output.shape"
   ]
  },
  {
   "cell_type": "code",
   "execution_count": 17,
   "metadata": {},
   "outputs": [],
   "source": [
    "def Data_To_DataLoader(X, y=None, mode='train', batch_size=32, shuffle=True):\n",
    "    if mode == 'train':\n",
    "        X = torch.tensor(X, dtype=torch.float32)\n",
    "        y = torch.tensor(y, dtype=torch.int32)\n",
    "        data = torch.utils.data.TensorDataset(X_train, y_train)\n",
    "        \n",
    "    elif mode == 'test':\n",
    "        X = torch.tensor(X, dtype=torch.float32)\n",
    "        data = torch.utils.data.TensorDataset(X)\n",
    "    \n",
    "    else:\n",
    "        return (\"mode is 'train' or 'test'\")\n",
    "        \n",
    "    data_loader = torch.utils.data.DataLoader(data, batch_size=batch_size, shuffle=shuffle)\n",
    "    \n",
    "    return data_loader"
   ]
  },
  {
   "cell_type": "code",
   "execution_count": null,
   "metadata": {},
   "outputs": [],
   "source": [
    "class DataFrame_to_Dataset(Dataset):\n",
    "    \n",
    "    def __init__(self, df, transform=transform_0):\n",
    "\n",
    "        # Get features and labels\n",
    "        if len(df.columns) == num_pixel:\n",
    "            # Test dataset\n",
    "            self.features = df.values.reshape((-1,28,28)).astype(np.uint8) # .astype(np.uint8) for ToPILImage transformer\n",
    "            self.labels = None\n",
    "        else:\n",
    "            # Train dataset\n",
    "            self.features = df.iloc[:,1:].values.reshape((-1,28,28)).astype(np.uint8)\n",
    "            self.labels = torch.from_numpy(df.label.values)\n",
    "        \n",
    "        # Transformer\n",
    "        self.transform = transform\n",
    "    \n",
    "    def __len__(self):\n",
    "        return len(self.features)\n",
    "    \n",
    "    def __getitem__(self, index):\n",
    "            \n",
    "        if self.labels is not None:\n",
    "            return self.transform(self.features[index]), self.labels[index]\n",
    "        else:\n",
    "            return self.transform(self.features[index])"
   ]
  },
  {
   "cell_type": "code",
   "execution_count": null,
   "metadata": {},
   "outputs": [],
   "source": [
    "def create_dataloaders(batch_size=32):\n",
    "\n",
    "    # Create Datasets\n",
    "    train_dataset = DataFrame_to_Dataset(train_data,transform)\n",
    "    # Create Dataloaders\n",
    "    train_loader = torch.utils.data.DataLoader(train_dataset, batch_size=batch_size, shuffle=True)\n",
    "\n",
    "    return train_loader"
   ]
  },
  {
   "cell_type": "code",
   "execution_count": null,
   "metadata": {},
   "outputs": [],
   "source": [
    "# load the data\n",
    "    end = time.time()\n",
    "    dataset = datasets.ImageFolder(args.data, transform=transforms.Compose(tra))\n",
    "    if args.verbose:\n",
    "        print('Load dataset: {0:.2f} s'.format(time.time() - end))\n",
    "\n",
    "    dataloader = torch.utils.data.DataLoader(dataset,\n",
    "                                             batch_size=args.batch,\n",
    "                                             num_workers=args.workers,\n",
    "                                             pin_memory=True)"
   ]
  },
  {
   "cell_type": "code",
   "execution_count": null,
   "metadata": {},
   "outputs": [],
   "source": [
    "#==== train roop ====\n",
    "#batch処理をしない\n",
    "#\n",
    "for epoch in range(n_epochs):\n",
    "    \n",
    "    #==== All data ====\n",
    "    # forward\n",
    "    features = net.forward()\n",
    "    features = features.to('cpu').detach().clone().numpy()\n",
    "    \n",
    "    # clustering\n",
    "    clustering = Kmeans(n_cluster=3)\n",
    "    psuedo_lable = clunstering.fit_predict(features)\n",
    "    \n",
    "    #==== train by pseudo-labels use batch ====\n",
    "    #train_dataloader\n",
    "    train_loader = Data_To_DataLoader(X, psuedo_lable, 'train')\n",
    "    \n",
    "    \n",
    "    for i, (image, label) in enumerate(loader):\n",
    "        image = image.to(device)\n",
    "        label = image.to(device)\n",
    "        \n",
    "        output = net(image)\n",
    "        loss = c(output, label)\n",
    "        \n",
    "        loss.update\n",
    "        optimizer.zero_grad()\n",
    "        loss.backward()\n",
    "        optimizer.step()\n",
    "        \n",
    "        print(loss)"
   ]
  },
  {
   "cell_type": "code",
   "execution_count": 25,
   "metadata": {},
   "outputs": [
    {
     "data": {
      "text/plain": [
       "True"
      ]
     },
     "execution_count": 25,
     "metadata": {},
     "output_type": "execute_result"
    }
   ],
   "source": []
  },
  {
   "cell_type": "code",
   "execution_count": null,
   "metadata": {},
   "outputs": [],
   "source": []
  }
 ],
 "metadata": {
  "kernelspec": {
   "display_name": "Python 3",
   "language": "python",
   "name": "python3"
  },
  "language_info": {
   "codemirror_mode": {
    "name": "ipython",
    "version": 3
   },
   "file_extension": ".py",
   "mimetype": "text/x-python",
   "name": "python",
   "nbconvert_exporter": "python",
   "pygments_lexer": "ipython3",
   "version": "3.7.5"
  }
 },
 "nbformat": 4,
 "nbformat_minor": 4
}
