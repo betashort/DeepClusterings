{
 "cells": [
  {
   "cell_type": "markdown",
   "metadata": {},
   "source": [
    "# Deep Clustering for Unsupervised Learning of Visual Features"
   ]
  },
  {
   "cell_type": "code",
   "execution_count": null,
   "metadata": {},
   "outputs": [],
   "source": [
    "#==== random seeds ====\n",
    "#乱数の設定\n",
    "torch.manual_seed(args.seed)\n",
    "torch.cuda.manual_seed_all(args.seed)\n",
    "np.random.seed(args.seed)\n",
    "\n",
    "#==== CNN model ====\n",
    "#モデルの定義\n",
    "\n",
    "#==== Clustering Algorithm ====\n",
    "#クラスタリング　アルゴリズムの定義\n",
    "#k-meansなど\n",
    "\n",
    "\n",
    "\n",
    "#==== optimizer ====\n",
    "#最適化の定義\n",
    "optimizer = torch.optim.SGD(\n",
    "    filter(lambda x: x.requires_grad, model.parameters()),\n",
    "    lr=args.lr,\n",
    "    momentum=args.momentum,\n",
    "    weight_decay=10**args.wd,\n",
    ")\n",
    "\n",
    "#==== define loss function ====\n",
    "#損失関数の定義\n",
    "criterion = nn.CrossEntropyLoss().cuda()\n",
    "\n",
    "\n",
    "#==== train roop ====\n",
    "#batch処理をしない\n",
    "#\n",
    "for epoch in range(n_epochs):\n",
    "    \n",
    "    #==== All data ====\n",
    "    # forward\n",
    "    features = model.forward()\n",
    "    # clustering\n",
    "    \n",
    "    \n",
    "    #==== train by pseudo-labels use batch ====\n",
    "    #train_dataloader\n",
    "    for i, (image, target) in enumerate(loader):\n",
    "        output = model()\n",
    "        loss = c(output, target)\n",
    "        \n",
    "        loss.update\n",
    "        optimizer.zero_grad()\n",
    "        loss.backward()\n",
    "        optimizer.step()\n",
    "        \n",
    "        '''\n",
    "        # compute gradient and do SGD step\n",
    "        opt.zero_grad()\n",
    "        optimizer_tl.zero_grad()\n",
    "        loss.backward()\n",
    "        opt.step()\n",
    "        optimizer_tl.step()\n",
    "        '''\n",
    "        \n",
    "        print(loss)\n",
    "        \n",
    "        "
   ]
  },
  {
   "cell_type": "code",
   "execution_count": null,
   "metadata": {},
   "outputs": [],
   "source": []
  }
 ],
 "metadata": {
  "kernelspec": {
   "display_name": "Python 3",
   "language": "python",
   "name": "python3"
  },
  "language_info": {
   "codemirror_mode": {
    "name": "ipython",
    "version": 3
   },
   "file_extension": ".py",
   "mimetype": "text/x-python",
   "name": "python",
   "nbconvert_exporter": "python",
   "pygments_lexer": "ipython3",
   "version": "3.7.5"
  }
 },
 "nbformat": 4,
 "nbformat_minor": 4
}
